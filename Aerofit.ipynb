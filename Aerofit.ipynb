{
 "cells": [
  {
   "cell_type": "markdown",
   "id": "daf1bcf0",
   "metadata": {},
   "source": [
    "### Problem Statement"
   ]
  },
  {
   "cell_type": "markdown",
   "id": "742ea933",
   "metadata": {},
   "source": [
    "Aerofit is a leading brand in the field of fitness equipment. Aerofit provides a product range including machines such as treadmills, exercise bikes, gym equipment, and fitness accessories to cater to the needs of all categories of people.\n",
    "The market research team at AeroFit wants to identify the characteristics of the target audience for each type of treadmill offered by the company, to provide a better recommendation of the treadmills to the new customers. "
   ]
  },
  {
   "cell_type": "markdown",
   "id": "b9164c11",
   "metadata": {},
   "source": [
    "### Dataset\n",
    "\n",
    "The company collected the data on individuals who purchased a treadmill from the AeroFit stores during the prior three months. The dataset has the following features:\n",
    "\n",
    "**Dataset link:** [Aerofit_treadmill.csv](https://drive.google.com/file/d/1aK8oa074-F9pByr_E5AukQK463JWrX5S/view)\n",
    "\n",
    "* **Product Purchased:**\tKP281, KP481, or KP781\n",
    "* **Age:**\tIn years\n",
    "* **Gender:**\tMale/Female\n",
    "* **Education:**\tIn years\n",
    "* **MaritalStatus:**\tSingle or partnered\n",
    "* **Usage:**\tThe average number of times the customer plans to use the treadmill each week.\n",
    "* **Income:**\tAnnual income (in $)\n",
    "* **Fitness:** Self-rated fitness on a 1-to-5 scale, where 1 is the poor shape and 5 is the excellent shape.\n",
    "* **Miles:**\tThe average number of miles the customer expects to walk/run each week"
   ]
  },
  {
   "cell_type": "markdown",
   "id": "95e28325",
   "metadata": {},
   "source": [
    "### Product Portfolio:\n",
    "\n",
    "* The *KP281* is an entry-level treadmill that sells for USD 1,500.\n",
    "* The *KP481* is for mid-level runners that sell for USD 1,750.\n",
    "* The *KP781* treadmill is having advanced features that sell for USD 2,500."
   ]
  },
  {
   "cell_type": "markdown",
   "id": "81710f79",
   "metadata": {},
   "source": [
    "### Basic Stratergy \n",
    "The team decides to investigate whether there are differences across the product with respect to customer characteristics.\n",
    "\n",
    "* Perform **descriptive analytics** to create a customer profile for each AeroFit treadmill product by developing appropriate tables and charts.\n",
    "* For each AeroFit treadmill product, construct two-way **contingency tables** and compute all *conditional and marginal probabilities* along with their insights/impact on the business."
   ]
  },
  {
   "cell_type": "markdown",
   "id": "a165110c",
   "metadata": {},
   "source": [
    "### Import necessary libraries"
   ]
  },
  {
   "cell_type": "markdown",
   "id": "d01d8dec",
   "metadata": {},
   "source": [
    "* **pandas (pd):** Pandas is a powerful data manipulation and analysis library for Python, providing data structures like DataFrames for efficient handling of structured data.\n",
    "* **numpy (np):** NumPy is a fundamental package for scientific computing in Python. It provides support for large, multi-dimensional arrays and matrices, along with mathematical functions to operate on these arrays.\n",
    "* **seaborn (sns):** Seaborn is a statistical data visualization library built on top of Matplotlib. It simplifies the process of creating attractive and informative statistical graphics.\n",
    "* **matplotlib.pyplot (plt):** Matplotlib is a 2D plotting library for Python. Pyplot is a collection of functions that make matplotlib work like MATLAB. It provides a convenient interface for creating various types of plots and charts.\n"
   ]
  },
  {
   "cell_type": "code",
   "execution_count": 3,
   "id": "d7883af9",
   "metadata": {},
   "outputs": [],
   "source": [
    "import numpy as np\n",
    "import pandas as pd\n",
    "import seaborn as sns\n",
    "import matplotlib.pyplot as plt\n"
   ]
  },
  {
   "cell_type": "markdown",
   "id": "3361e660",
   "metadata": {},
   "source": [
    "### 1.Analysing basic metrics"
   ]
  },
  {
   "cell_type": "markdown",
   "id": "a558c353",
   "metadata": {},
   "source": [
    "#### 1.1 Read data"
   ]
  },
  {
   "cell_type": "markdown",
   "id": "7765f5ce",
   "metadata": {},
   "source": [
    "Using Pandas Library, we’ll load the CSV file. Named it with data for the dataset."
   ]
  },
  {
   "cell_type": "code",
   "execution_count": 4,
   "id": "04db2154",
   "metadata": {},
   "outputs": [],
   "source": [
    "data = pd.read_csv(\"aerofit_treadmill.csv\")"
   ]
  },
  {
   "cell_type": "markdown",
   "id": "1a82075c",
   "metadata": {},
   "source": [
    "#### 1.2 Shape of data"
   ]
  },
  {
   "cell_type": "markdown",
   "id": "94ae1fff",
   "metadata": {},
   "source": [
    "It provides the dimensions (number of rows and columns) of the DataFrame,"
   ]
  },
  {
   "cell_type": "code",
   "execution_count": 5,
   "id": "cca84895",
   "metadata": {},
   "outputs": [
    {
     "data": {
      "text/plain": [
       "(180, 9)"
      ]
     },
     "execution_count": 5,
     "metadata": {},
     "output_type": "execute_result"
    }
   ],
   "source": [
    "data.shape"
   ]
  },
  {
   "cell_type": "markdown",
   "id": "18144a21",
   "metadata": {},
   "source": [
    "Our data has 180 rows and 9 features"
   ]
  },
  {
   "cell_type": "markdown",
   "id": "6897d693",
   "metadata": {},
   "source": [
    "#### 1.3 check first  and last 5 rows and 9 features"
   ]
  },
  {
   "cell_type": "markdown",
   "id": "bbcd5c92",
   "metadata": {},
   "source": [
    "**df.head()** displays the first few rows of a DataFrame, while **df.tail()** shows the last few rows, providing a quick overview of the dataset's structure and content."
   ]
  },
  {
   "cell_type": "code",
   "execution_count": 9,
   "id": "eb5d4d12",
   "metadata": {},
   "outputs": [
    {
     "data": {
      "text/html": [
       "<div>\n",
       "<style scoped>\n",
       "    .dataframe tbody tr th:only-of-type {\n",
       "        vertical-align: middle;\n",
       "    }\n",
       "\n",
       "    .dataframe tbody tr th {\n",
       "        vertical-align: top;\n",
       "    }\n",
       "\n",
       "    .dataframe thead th {\n",
       "        text-align: right;\n",
       "    }\n",
       "</style>\n",
       "<table border=\"1\" class=\"dataframe\">\n",
       "  <thead>\n",
       "    <tr style=\"text-align: right;\">\n",
       "      <th></th>\n",
       "      <th>Product</th>\n",
       "      <th>Age</th>\n",
       "      <th>Gender</th>\n",
       "      <th>Education</th>\n",
       "      <th>MaritalStatus</th>\n",
       "      <th>Usage</th>\n",
       "      <th>Fitness</th>\n",
       "      <th>Income</th>\n",
       "      <th>Miles</th>\n",
       "    </tr>\n",
       "  </thead>\n",
       "  <tbody>\n",
       "    <tr>\n",
       "      <th>0</th>\n",
       "      <td>KP281</td>\n",
       "      <td>18</td>\n",
       "      <td>Male</td>\n",
       "      <td>14</td>\n",
       "      <td>Single</td>\n",
       "      <td>3</td>\n",
       "      <td>4</td>\n",
       "      <td>29562</td>\n",
       "      <td>112</td>\n",
       "    </tr>\n",
       "    <tr>\n",
       "      <th>1</th>\n",
       "      <td>KP281</td>\n",
       "      <td>19</td>\n",
       "      <td>Male</td>\n",
       "      <td>15</td>\n",
       "      <td>Single</td>\n",
       "      <td>2</td>\n",
       "      <td>3</td>\n",
       "      <td>31836</td>\n",
       "      <td>75</td>\n",
       "    </tr>\n",
       "    <tr>\n",
       "      <th>2</th>\n",
       "      <td>KP281</td>\n",
       "      <td>19</td>\n",
       "      <td>Female</td>\n",
       "      <td>14</td>\n",
       "      <td>Partnered</td>\n",
       "      <td>4</td>\n",
       "      <td>3</td>\n",
       "      <td>30699</td>\n",
       "      <td>66</td>\n",
       "    </tr>\n",
       "    <tr>\n",
       "      <th>3</th>\n",
       "      <td>KP281</td>\n",
       "      <td>19</td>\n",
       "      <td>Male</td>\n",
       "      <td>12</td>\n",
       "      <td>Single</td>\n",
       "      <td>3</td>\n",
       "      <td>3</td>\n",
       "      <td>32973</td>\n",
       "      <td>85</td>\n",
       "    </tr>\n",
       "    <tr>\n",
       "      <th>4</th>\n",
       "      <td>KP281</td>\n",
       "      <td>20</td>\n",
       "      <td>Male</td>\n",
       "      <td>13</td>\n",
       "      <td>Partnered</td>\n",
       "      <td>4</td>\n",
       "      <td>2</td>\n",
       "      <td>35247</td>\n",
       "      <td>47</td>\n",
       "    </tr>\n",
       "  </tbody>\n",
       "</table>\n",
       "</div>"
      ],
      "text/plain": [
       "  Product  Age  Gender  Education MaritalStatus  Usage  Fitness  Income  Miles\n",
       "0   KP281   18    Male         14        Single      3        4   29562    112\n",
       "1   KP281   19    Male         15        Single      2        3   31836     75\n",
       "2   KP281   19  Female         14     Partnered      4        3   30699     66\n",
       "3   KP281   19    Male         12        Single      3        3   32973     85\n",
       "4   KP281   20    Male         13     Partnered      4        2   35247     47"
      ]
     },
     "execution_count": 9,
     "metadata": {},
     "output_type": "execute_result"
    }
   ],
   "source": [
    "data.head()"
   ]
  },
  {
   "cell_type": "code",
   "execution_count": 10,
   "id": "735c9875",
   "metadata": {},
   "outputs": [
    {
     "data": {
      "text/html": [
       "<div>\n",
       "<style scoped>\n",
       "    .dataframe tbody tr th:only-of-type {\n",
       "        vertical-align: middle;\n",
       "    }\n",
       "\n",
       "    .dataframe tbody tr th {\n",
       "        vertical-align: top;\n",
       "    }\n",
       "\n",
       "    .dataframe thead th {\n",
       "        text-align: right;\n",
       "    }\n",
       "</style>\n",
       "<table border=\"1\" class=\"dataframe\">\n",
       "  <thead>\n",
       "    <tr style=\"text-align: right;\">\n",
       "      <th></th>\n",
       "      <th>Product</th>\n",
       "      <th>Age</th>\n",
       "      <th>Gender</th>\n",
       "      <th>Education</th>\n",
       "      <th>MaritalStatus</th>\n",
       "      <th>Usage</th>\n",
       "      <th>Fitness</th>\n",
       "      <th>Income</th>\n",
       "      <th>Miles</th>\n",
       "    </tr>\n",
       "  </thead>\n",
       "  <tbody>\n",
       "    <tr>\n",
       "      <th>175</th>\n",
       "      <td>KP781</td>\n",
       "      <td>40</td>\n",
       "      <td>Male</td>\n",
       "      <td>21</td>\n",
       "      <td>Single</td>\n",
       "      <td>6</td>\n",
       "      <td>5</td>\n",
       "      <td>83416</td>\n",
       "      <td>200</td>\n",
       "    </tr>\n",
       "    <tr>\n",
       "      <th>176</th>\n",
       "      <td>KP781</td>\n",
       "      <td>42</td>\n",
       "      <td>Male</td>\n",
       "      <td>18</td>\n",
       "      <td>Single</td>\n",
       "      <td>5</td>\n",
       "      <td>4</td>\n",
       "      <td>89641</td>\n",
       "      <td>200</td>\n",
       "    </tr>\n",
       "    <tr>\n",
       "      <th>177</th>\n",
       "      <td>KP781</td>\n",
       "      <td>45</td>\n",
       "      <td>Male</td>\n",
       "      <td>16</td>\n",
       "      <td>Single</td>\n",
       "      <td>5</td>\n",
       "      <td>5</td>\n",
       "      <td>90886</td>\n",
       "      <td>160</td>\n",
       "    </tr>\n",
       "    <tr>\n",
       "      <th>178</th>\n",
       "      <td>KP781</td>\n",
       "      <td>47</td>\n",
       "      <td>Male</td>\n",
       "      <td>18</td>\n",
       "      <td>Partnered</td>\n",
       "      <td>4</td>\n",
       "      <td>5</td>\n",
       "      <td>104581</td>\n",
       "      <td>120</td>\n",
       "    </tr>\n",
       "    <tr>\n",
       "      <th>179</th>\n",
       "      <td>KP781</td>\n",
       "      <td>48</td>\n",
       "      <td>Male</td>\n",
       "      <td>18</td>\n",
       "      <td>Partnered</td>\n",
       "      <td>4</td>\n",
       "      <td>5</td>\n",
       "      <td>95508</td>\n",
       "      <td>180</td>\n",
       "    </tr>\n",
       "  </tbody>\n",
       "</table>\n",
       "</div>"
      ],
      "text/plain": [
       "    Product  Age Gender  Education MaritalStatus  Usage  Fitness  Income  \\\n",
       "175   KP781   40   Male         21        Single      6        5   83416   \n",
       "176   KP781   42   Male         18        Single      5        4   89641   \n",
       "177   KP781   45   Male         16        Single      5        5   90886   \n",
       "178   KP781   47   Male         18     Partnered      4        5  104581   \n",
       "179   KP781   48   Male         18     Partnered      4        5   95508   \n",
       "\n",
       "     Miles  \n",
       "175    200  \n",
       "176    200  \n",
       "177    160  \n",
       "178    120  \n",
       "179    180  "
      ]
     },
     "execution_count": 10,
     "metadata": {},
     "output_type": "execute_result"
    }
   ],
   "source": [
    "data.tail()"
   ]
  },
  {
   "cell_type": "markdown",
   "id": "10435fd5",
   "metadata": {},
   "source": [
    "#### 1.4 check datatype"
   ]
  },
  {
   "cell_type": "code",
   "execution_count": 8,
   "id": "6173b736",
   "metadata": {},
   "outputs": [
    {
     "data": {
      "text/plain": [
       "Product          object\n",
       "Age               int64\n",
       "Gender           object\n",
       "Education         int64\n",
       "MaritalStatus    object\n",
       "Usage             int64\n",
       "Fitness           int64\n",
       "Income            int64\n",
       "Miles             int64\n",
       "dtype: object"
      ]
     },
     "execution_count": 8,
     "metadata": {},
     "output_type": "execute_result"
    }
   ],
   "source": [
    "data.dtypes"
   ]
  },
  {
   "cell_type": "markdown",
   "id": "19ffdd12",
   "metadata": {},
   "source": [
    "No need to change datatypes"
   ]
  },
  {
   "cell_type": "markdown",
   "id": "2fd3d946",
   "metadata": {},
   "source": [
    "#### 1.5 Check duplicate values\n"
   ]
  },
  {
   "cell_type": "code",
   "execution_count": 12,
   "id": "8a4abdf2",
   "metadata": {},
   "outputs": [
    {
     "data": {
      "text/plain": [
       "0"
      ]
     },
     "execution_count": 12,
     "metadata": {},
     "output_type": "execute_result"
    }
   ],
   "source": [
    "data.duplicated().sum()"
   ]
  },
  {
   "cell_type": "markdown",
   "id": "707c4f09",
   "metadata": {},
   "source": [
    "Dataset doesn't hold duplicate entries"
   ]
  },
  {
   "cell_type": "markdown",
   "id": "22aeaa6d",
   "metadata": {},
   "source": [
    "#### 1.6 Check null values"
   ]
  },
  {
   "cell_type": "markdown",
   "id": "992e8cb3",
   "metadata": {},
   "source": [
    "df.isna() returns a DataFrame of the same shape as the input, where each element is a boolean indicating whether the corresponding element in the original DataFrame is NaN (missing) or not."
   ]
  },
  {
   "cell_type": "code",
   "execution_count": 13,
   "id": "b50b64fc",
   "metadata": {},
   "outputs": [
    {
     "data": {
      "text/plain": [
       "Product          0\n",
       "Age              0\n",
       "Gender           0\n",
       "Education        0\n",
       "MaritalStatus    0\n",
       "Usage            0\n",
       "Fitness          0\n",
       "Income           0\n",
       "Miles            0\n",
       "dtype: int64"
      ]
     },
     "execution_count": 13,
     "metadata": {},
     "output_type": "execute_result"
    }
   ],
   "source": [
    "data.isna().sum()"
   ]
  },
  {
   "cell_type": "markdown",
   "id": "0c022b58",
   "metadata": {},
   "source": [
    "#### 1.7 5 point summary of numerical features "
   ]
  },
  {
   "cell_type": "markdown",
   "id": "4347afca",
   "metadata": {},
   "source": [
    "df.describe() provides basic statistical information (count, mean, std, min, 25%, 50%, 75%, and max) about the numerical columns in the DataFrame.\n",
    "Together, they offer a comprehensive view of the DataFrame's structure and content.\n"
   ]
  },
  {
   "cell_type": "code",
   "execution_count": 14,
   "id": "1c7a74f4",
   "metadata": {},
   "outputs": [
    {
     "data": {
      "text/html": [
       "<div>\n",
       "<style scoped>\n",
       "    .dataframe tbody tr th:only-of-type {\n",
       "        vertical-align: middle;\n",
       "    }\n",
       "\n",
       "    .dataframe tbody tr th {\n",
       "        vertical-align: top;\n",
       "    }\n",
       "\n",
       "    .dataframe thead th {\n",
       "        text-align: right;\n",
       "    }\n",
       "</style>\n",
       "<table border=\"1\" class=\"dataframe\">\n",
       "  <thead>\n",
       "    <tr style=\"text-align: right;\">\n",
       "      <th></th>\n",
       "      <th>Age</th>\n",
       "      <th>Education</th>\n",
       "      <th>Usage</th>\n",
       "      <th>Fitness</th>\n",
       "      <th>Income</th>\n",
       "      <th>Miles</th>\n",
       "    </tr>\n",
       "  </thead>\n",
       "  <tbody>\n",
       "    <tr>\n",
       "      <th>count</th>\n",
       "      <td>180.000000</td>\n",
       "      <td>180.000000</td>\n",
       "      <td>180.000000</td>\n",
       "      <td>180.000000</td>\n",
       "      <td>180.000000</td>\n",
       "      <td>180.000000</td>\n",
       "    </tr>\n",
       "    <tr>\n",
       "      <th>mean</th>\n",
       "      <td>28.788889</td>\n",
       "      <td>15.572222</td>\n",
       "      <td>3.455556</td>\n",
       "      <td>3.311111</td>\n",
       "      <td>53719.577778</td>\n",
       "      <td>103.194444</td>\n",
       "    </tr>\n",
       "    <tr>\n",
       "      <th>std</th>\n",
       "      <td>6.943498</td>\n",
       "      <td>1.617055</td>\n",
       "      <td>1.084797</td>\n",
       "      <td>0.958869</td>\n",
       "      <td>16506.684226</td>\n",
       "      <td>51.863605</td>\n",
       "    </tr>\n",
       "    <tr>\n",
       "      <th>min</th>\n",
       "      <td>18.000000</td>\n",
       "      <td>12.000000</td>\n",
       "      <td>2.000000</td>\n",
       "      <td>1.000000</td>\n",
       "      <td>29562.000000</td>\n",
       "      <td>21.000000</td>\n",
       "    </tr>\n",
       "    <tr>\n",
       "      <th>25%</th>\n",
       "      <td>24.000000</td>\n",
       "      <td>14.000000</td>\n",
       "      <td>3.000000</td>\n",
       "      <td>3.000000</td>\n",
       "      <td>44058.750000</td>\n",
       "      <td>66.000000</td>\n",
       "    </tr>\n",
       "    <tr>\n",
       "      <th>50%</th>\n",
       "      <td>26.000000</td>\n",
       "      <td>16.000000</td>\n",
       "      <td>3.000000</td>\n",
       "      <td>3.000000</td>\n",
       "      <td>50596.500000</td>\n",
       "      <td>94.000000</td>\n",
       "    </tr>\n",
       "    <tr>\n",
       "      <th>75%</th>\n",
       "      <td>33.000000</td>\n",
       "      <td>16.000000</td>\n",
       "      <td>4.000000</td>\n",
       "      <td>4.000000</td>\n",
       "      <td>58668.000000</td>\n",
       "      <td>114.750000</td>\n",
       "    </tr>\n",
       "    <tr>\n",
       "      <th>max</th>\n",
       "      <td>50.000000</td>\n",
       "      <td>21.000000</td>\n",
       "      <td>7.000000</td>\n",
       "      <td>5.000000</td>\n",
       "      <td>104581.000000</td>\n",
       "      <td>360.000000</td>\n",
       "    </tr>\n",
       "  </tbody>\n",
       "</table>\n",
       "</div>"
      ],
      "text/plain": [
       "              Age   Education       Usage     Fitness         Income  \\\n",
       "count  180.000000  180.000000  180.000000  180.000000     180.000000   \n",
       "mean    28.788889   15.572222    3.455556    3.311111   53719.577778   \n",
       "std      6.943498    1.617055    1.084797    0.958869   16506.684226   \n",
       "min     18.000000   12.000000    2.000000    1.000000   29562.000000   \n",
       "25%     24.000000   14.000000    3.000000    3.000000   44058.750000   \n",
       "50%     26.000000   16.000000    3.000000    3.000000   50596.500000   \n",
       "75%     33.000000   16.000000    4.000000    4.000000   58668.000000   \n",
       "max     50.000000   21.000000    7.000000    5.000000  104581.000000   \n",
       "\n",
       "            Miles  \n",
       "count  180.000000  \n",
       "mean   103.194444  \n",
       "std     51.863605  \n",
       "min     21.000000  \n",
       "25%     66.000000  \n",
       "50%     94.000000  \n",
       "75%    114.750000  \n",
       "max    360.000000  "
      ]
     },
     "execution_count": 14,
     "metadata": {},
     "output_type": "execute_result"
    }
   ],
   "source": [
    "data.describe()"
   ]
  },
  {
   "cell_type": "markdown",
   "id": "3836a773",
   "metadata": {},
   "source": [
    "#### Insights"
   ]
  },
  {
   "cell_type": "markdown",
   "id": "b7e1835c",
   "metadata": {},
   "source": [
    "* 50 percent individuals who purchased treadmill have age below 33 years\n",
    "* min age is 18 and maximum age is 50 who purchesd treadmill\n",
    "* 50 percent individuals who purchesd traidemill have below 16 years education\n",
    "* The average annual income of individuals is around  between 53k to 54k, who like to purchase treadmill\n",
    "* The average number of 3 times the customer plans to use the treadmill each week\n",
    "* 50 percent individuals expects below 94 miles to run/walk each week\n"
   ]
  },
  {
   "cell_type": "markdown",
   "id": "305b5f1c",
   "metadata": {},
   "source": [
    "#### Info()"
   ]
  },
  {
   "cell_type": "markdown",
   "id": "71951e7b",
   "metadata": {},
   "source": [
    "df.info() gives a concise summary of the DataFrame including data types and missing values"
   ]
  },
  {
   "cell_type": "code",
   "execution_count": 15,
   "id": "13dda567",
   "metadata": {},
   "outputs": [
    {
     "name": "stdout",
     "output_type": "stream",
     "text": [
      "<class 'pandas.core.frame.DataFrame'>\n",
      "RangeIndex: 180 entries, 0 to 179\n",
      "Data columns (total 9 columns):\n",
      " #   Column         Non-Null Count  Dtype \n",
      "---  ------         --------------  ----- \n",
      " 0   Product        180 non-null    object\n",
      " 1   Age            180 non-null    int64 \n",
      " 2   Gender         180 non-null    object\n",
      " 3   Education      180 non-null    int64 \n",
      " 4   MaritalStatus  180 non-null    object\n",
      " 5   Usage          180 non-null    int64 \n",
      " 6   Fitness        180 non-null    int64 \n",
      " 7   Income         180 non-null    int64 \n",
      " 8   Miles          180 non-null    int64 \n",
      "dtypes: int64(6), object(3)\n",
      "memory usage: 12.8+ KB\n"
     ]
    }
   ],
   "source": [
    "data.info()"
   ]
  },
  {
   "cell_type": "markdown",
   "id": "1cc2d4b3",
   "metadata": {},
   "source": [
    "#### Basic matrics Insights"
   ]
  },
  {
   "cell_type": "markdown",
   "id": "ed368100",
   "metadata": {},
   "source": [
    "* Data have 9 features and 180 entries\n",
    "* Data doesn't hold any duplicate entries\n",
    "* Data doesn't have null values\n",
    "* no need to change datatypes\n",
    "\n"
   ]
  },
  {
   "cell_type": "markdown",
   "id": "afcf0edb",
   "metadata": {},
   "source": [
    "### 2 Non Graphical Analysis"
   ]
  },
  {
   "cell_type": "markdown",
   "id": "6eb12281",
   "metadata": {},
   "source": [
    "Non-graphical analysis refers to the examination and interpretation of data without relying on visual representations such as charts or graphs. It involves using descriptive statistics, tables, and summary measures to understand the characteristics of the data "
   ]
  },
  {
   "cell_type": "code",
   "execution_count": 16,
   "id": "43ba924e",
   "metadata": {},
   "outputs": [
    {
     "data": {
      "text/html": [
       "<div>\n",
       "<style scoped>\n",
       "    .dataframe tbody tr th:only-of-type {\n",
       "        vertical-align: middle;\n",
       "    }\n",
       "\n",
       "    .dataframe tbody tr th {\n",
       "        vertical-align: top;\n",
       "    }\n",
       "\n",
       "    .dataframe thead th {\n",
       "        text-align: right;\n",
       "    }\n",
       "</style>\n",
       "<table border=\"1\" class=\"dataframe\">\n",
       "  <thead>\n",
       "    <tr style=\"text-align: right;\">\n",
       "      <th></th>\n",
       "      <th>Product</th>\n",
       "      <th>Age</th>\n",
       "      <th>Gender</th>\n",
       "      <th>Education</th>\n",
       "      <th>MaritalStatus</th>\n",
       "      <th>Usage</th>\n",
       "      <th>Fitness</th>\n",
       "      <th>Income</th>\n",
       "      <th>Miles</th>\n",
       "    </tr>\n",
       "  </thead>\n",
       "  <tbody>\n",
       "    <tr>\n",
       "      <th>0</th>\n",
       "      <td>KP281</td>\n",
       "      <td>18</td>\n",
       "      <td>Male</td>\n",
       "      <td>14</td>\n",
       "      <td>Single</td>\n",
       "      <td>3</td>\n",
       "      <td>4</td>\n",
       "      <td>29562</td>\n",
       "      <td>112</td>\n",
       "    </tr>\n",
       "    <tr>\n",
       "      <th>1</th>\n",
       "      <td>KP281</td>\n",
       "      <td>19</td>\n",
       "      <td>Male</td>\n",
       "      <td>15</td>\n",
       "      <td>Single</td>\n",
       "      <td>2</td>\n",
       "      <td>3</td>\n",
       "      <td>31836</td>\n",
       "      <td>75</td>\n",
       "    </tr>\n",
       "    <tr>\n",
       "      <th>2</th>\n",
       "      <td>KP281</td>\n",
       "      <td>19</td>\n",
       "      <td>Female</td>\n",
       "      <td>14</td>\n",
       "      <td>Partnered</td>\n",
       "      <td>4</td>\n",
       "      <td>3</td>\n",
       "      <td>30699</td>\n",
       "      <td>66</td>\n",
       "    </tr>\n",
       "    <tr>\n",
       "      <th>3</th>\n",
       "      <td>KP281</td>\n",
       "      <td>19</td>\n",
       "      <td>Male</td>\n",
       "      <td>12</td>\n",
       "      <td>Single</td>\n",
       "      <td>3</td>\n",
       "      <td>3</td>\n",
       "      <td>32973</td>\n",
       "      <td>85</td>\n",
       "    </tr>\n",
       "    <tr>\n",
       "      <th>4</th>\n",
       "      <td>KP281</td>\n",
       "      <td>20</td>\n",
       "      <td>Male</td>\n",
       "      <td>13</td>\n",
       "      <td>Partnered</td>\n",
       "      <td>4</td>\n",
       "      <td>2</td>\n",
       "      <td>35247</td>\n",
       "      <td>47</td>\n",
       "    </tr>\n",
       "  </tbody>\n",
       "</table>\n",
       "</div>"
      ],
      "text/plain": [
       "  Product  Age  Gender  Education MaritalStatus  Usage  Fitness  Income  Miles\n",
       "0   KP281   18    Male         14        Single      3        4   29562    112\n",
       "1   KP281   19    Male         15        Single      2        3   31836     75\n",
       "2   KP281   19  Female         14     Partnered      4        3   30699     66\n",
       "3   KP281   19    Male         12        Single      3        3   32973     85\n",
       "4   KP281   20    Male         13     Partnered      4        2   35247     47"
      ]
     },
     "execution_count": 16,
     "metadata": {},
     "output_type": "execute_result"
    }
   ],
   "source": [
    "data.head()"
   ]
  },
  {
   "cell_type": "markdown",
   "id": "7841ed34",
   "metadata": {},
   "source": [
    "#### 2.1 Separating Categorical and numerical features"
   ]
  },
  {
   "cell_type": "code",
   "execution_count": 29,
   "id": "1c99beaa",
   "metadata": {},
   "outputs": [
    {
     "data": {
      "text/html": [
       "<div>\n",
       "<style scoped>\n",
       "    .dataframe tbody tr th:only-of-type {\n",
       "        vertical-align: middle;\n",
       "    }\n",
       "\n",
       "    .dataframe tbody tr th {\n",
       "        vertical-align: top;\n",
       "    }\n",
       "\n",
       "    .dataframe thead th {\n",
       "        text-align: right;\n",
       "    }\n",
       "</style>\n",
       "<table border=\"1\" class=\"dataframe\">\n",
       "  <thead>\n",
       "    <tr style=\"text-align: right;\">\n",
       "      <th></th>\n",
       "      <th>Product</th>\n",
       "      <th>Gender</th>\n",
       "      <th>MaritalStatus</th>\n",
       "    </tr>\n",
       "  </thead>\n",
       "  <tbody>\n",
       "    <tr>\n",
       "      <th>0</th>\n",
       "      <td>KP281</td>\n",
       "      <td>Male</td>\n",
       "      <td>Single</td>\n",
       "    </tr>\n",
       "    <tr>\n",
       "      <th>1</th>\n",
       "      <td>KP281</td>\n",
       "      <td>Male</td>\n",
       "      <td>Single</td>\n",
       "    </tr>\n",
       "    <tr>\n",
       "      <th>2</th>\n",
       "      <td>KP281</td>\n",
       "      <td>Female</td>\n",
       "      <td>Partnered</td>\n",
       "    </tr>\n",
       "    <tr>\n",
       "      <th>3</th>\n",
       "      <td>KP281</td>\n",
       "      <td>Male</td>\n",
       "      <td>Single</td>\n",
       "    </tr>\n",
       "    <tr>\n",
       "      <th>4</th>\n",
       "      <td>KP281</td>\n",
       "      <td>Male</td>\n",
       "      <td>Partnered</td>\n",
       "    </tr>\n",
       "  </tbody>\n",
       "</table>\n",
       "</div>"
      ],
      "text/plain": [
       "  Product  Gender MaritalStatus\n",
       "0   KP281    Male        Single\n",
       "1   KP281    Male        Single\n",
       "2   KP281  Female     Partnered\n",
       "3   KP281    Male        Single\n",
       "4   KP281    Male     Partnered"
      ]
     },
     "execution_count": 29,
     "metadata": {},
     "output_type": "execute_result"
    }
   ],
   "source": [
    "### Creating categorical dataset\n",
    "categorical = []\n",
    "for cols in data.columns:\n",
    "    if data[cols].dtypes == 'object':\n",
    "        categorical.append(cols)\n",
    "        \n",
    "cat_data = data[categorical]\n",
    "cat_data.head()"
   ]
  },
  {
   "cell_type": "markdown",
   "id": "acf0d24c",
   "metadata": {},
   "source": [
    "In dataframe \"Product\",\"Gender\",\"MaritalStatus\" are categorical features"
   ]
  },
  {
   "cell_type": "code",
   "execution_count": 38,
   "id": "2ea7e125",
   "metadata": {},
   "outputs": [
    {
     "data": {
      "text/plain": [
       "(180, 3)"
      ]
     },
     "execution_count": 38,
     "metadata": {},
     "output_type": "execute_result"
    }
   ],
   "source": [
    "cat_data.shape"
   ]
  },
  {
   "cell_type": "code",
   "execution_count": 30,
   "id": "227aa8e2",
   "metadata": {},
   "outputs": [
    {
     "data": {
      "text/html": [
       "<div>\n",
       "<style scoped>\n",
       "    .dataframe tbody tr th:only-of-type {\n",
       "        vertical-align: middle;\n",
       "    }\n",
       "\n",
       "    .dataframe tbody tr th {\n",
       "        vertical-align: top;\n",
       "    }\n",
       "\n",
       "    .dataframe thead th {\n",
       "        text-align: right;\n",
       "    }\n",
       "</style>\n",
       "<table border=\"1\" class=\"dataframe\">\n",
       "  <thead>\n",
       "    <tr style=\"text-align: right;\">\n",
       "      <th></th>\n",
       "      <th>Age</th>\n",
       "      <th>Education</th>\n",
       "      <th>Usage</th>\n",
       "      <th>Fitness</th>\n",
       "      <th>Income</th>\n",
       "      <th>Miles</th>\n",
       "    </tr>\n",
       "  </thead>\n",
       "  <tbody>\n",
       "    <tr>\n",
       "      <th>0</th>\n",
       "      <td>18</td>\n",
       "      <td>14</td>\n",
       "      <td>3</td>\n",
       "      <td>4</td>\n",
       "      <td>29562</td>\n",
       "      <td>112</td>\n",
       "    </tr>\n",
       "    <tr>\n",
       "      <th>1</th>\n",
       "      <td>19</td>\n",
       "      <td>15</td>\n",
       "      <td>2</td>\n",
       "      <td>3</td>\n",
       "      <td>31836</td>\n",
       "      <td>75</td>\n",
       "    </tr>\n",
       "    <tr>\n",
       "      <th>2</th>\n",
       "      <td>19</td>\n",
       "      <td>14</td>\n",
       "      <td>4</td>\n",
       "      <td>3</td>\n",
       "      <td>30699</td>\n",
       "      <td>66</td>\n",
       "    </tr>\n",
       "    <tr>\n",
       "      <th>3</th>\n",
       "      <td>19</td>\n",
       "      <td>12</td>\n",
       "      <td>3</td>\n",
       "      <td>3</td>\n",
       "      <td>32973</td>\n",
       "      <td>85</td>\n",
       "    </tr>\n",
       "    <tr>\n",
       "      <th>4</th>\n",
       "      <td>20</td>\n",
       "      <td>13</td>\n",
       "      <td>4</td>\n",
       "      <td>2</td>\n",
       "      <td>35247</td>\n",
       "      <td>47</td>\n",
       "    </tr>\n",
       "  </tbody>\n",
       "</table>\n",
       "</div>"
      ],
      "text/plain": [
       "   Age  Education  Usage  Fitness  Income  Miles\n",
       "0   18         14      3        4   29562    112\n",
       "1   19         15      2        3   31836     75\n",
       "2   19         14      4        3   30699     66\n",
       "3   19         12      3        3   32973     85\n",
       "4   20         13      4        2   35247     47"
      ]
     },
     "execution_count": 30,
     "metadata": {},
     "output_type": "execute_result"
    }
   ],
   "source": [
    "### Creating numerical dataset\n",
    "numerical = []\n",
    "for cols in data.columns:\n",
    "    if data[cols].dtypes != 'object':\n",
    "        numerical.append(cols)\n",
    "        \n",
    "num_data = data[numerical]\n",
    "num_data.head()"
   ]
  },
  {
   "cell_type": "markdown",
   "id": "9af14292",
   "metadata": {},
   "source": [
    "Age ,Education ,Usage ,Fitness ,Income ,Miles are numerical features"
   ]
  },
  {
   "cell_type": "markdown",
   "id": "22672358",
   "metadata": {},
   "source": [
    "#### 2.2 Non graphical Analysis on categorical features"
   ]
  },
  {
   "cell_type": "code",
   "execution_count": 46,
   "id": "98529487",
   "metadata": {},
   "outputs": [
    {
     "data": {
      "text/html": [
       "<div>\n",
       "<style scoped>\n",
       "    .dataframe tbody tr th:only-of-type {\n",
       "        vertical-align: middle;\n",
       "    }\n",
       "\n",
       "    .dataframe tbody tr th {\n",
       "        vertical-align: top;\n",
       "    }\n",
       "\n",
       "    .dataframe thead th {\n",
       "        text-align: right;\n",
       "    }\n",
       "</style>\n",
       "<table border=\"1\" class=\"dataframe\">\n",
       "  <thead>\n",
       "    <tr style=\"text-align: right;\">\n",
       "      <th></th>\n",
       "      <th>Product</th>\n",
       "      <th>Gender</th>\n",
       "      <th>MaritalStatus</th>\n",
       "    </tr>\n",
       "  </thead>\n",
       "  <tbody>\n",
       "    <tr>\n",
       "      <th>0</th>\n",
       "      <td>KP281</td>\n",
       "      <td>Male</td>\n",
       "      <td>Single</td>\n",
       "    </tr>\n",
       "    <tr>\n",
       "      <th>1</th>\n",
       "      <td>KP481</td>\n",
       "      <td>Female</td>\n",
       "      <td>Partnered</td>\n",
       "    </tr>\n",
       "    <tr>\n",
       "      <th>2</th>\n",
       "      <td>KP781</td>\n",
       "      <td>NaN</td>\n",
       "      <td>NaN</td>\n",
       "    </tr>\n",
       "  </tbody>\n",
       "</table>\n",
       "</div>"
      ],
      "text/plain": [
       "  Product  Gender MaritalStatus\n",
       "0   KP281    Male        Single\n",
       "1   KP481  Female     Partnered\n",
       "2   KP781     NaN           NaN"
      ]
     },
     "execution_count": 46,
     "metadata": {},
     "output_type": "execute_result"
    }
   ],
   "source": [
    "### Get unique values in each categorical column\n",
    "def cat_details(col):\n",
    "        return pd.Series(col.unique())\n",
    "    \n",
    "\n",
    "# Apply the function to the DataFrame along the columns axis\n",
    "cat_data.apply(cat_details)\n"
   ]
  },
  {
   "cell_type": "markdown",
   "id": "caa83414",
   "metadata": {},
   "source": [
    "#### Insights"
   ]
  },
  {
   "cell_type": "markdown",
   "id": "f5084a8c",
   "metadata": {},
   "source": [
    "* **Product** feature have 3 unique values **KP281, KP481, KP781**\n",
    "* **Gender** feature have 2 unique values **Male and Female**\n",
    "* **MaritalStatus** feature have 2 unique values **Single and Partnered**"
   ]
  },
  {
   "cell_type": "code",
   "execution_count": 70,
   "id": "e851e0d0",
   "metadata": {},
   "outputs": [
    {
     "name": "stdout",
     "output_type": "stream",
     "text": [
      "Product Column have following count of values\n",
      "\n",
      "KP281    80\n",
      "KP481    60\n",
      "KP781    40\n",
      "Name: Product, dtype: int64 \n",
      "\n",
      "Gender Column have following count of values\n",
      "\n",
      "Male      104\n",
      "Female     76\n",
      "Name: Gender, dtype: int64 \n",
      "\n",
      "MaritalStatus Column have following count of values\n",
      "\n",
      "Partnered    107\n",
      "Single        73\n",
      "Name: MaritalStatus, dtype: int64 \n",
      "\n"
     ]
    }
   ],
   "source": [
    "def print_cat_value_counts(df):\n",
    "    for col in df.columns:\n",
    "        print(\"{} Column have following count of values\\n\".format(col))\n",
    "        print(df[col].value_counts(),\"\\n\")\n",
    "        \n",
    "print_cat_value_counts(cat_data)\n"
   ]
  },
  {
   "cell_type": "markdown",
   "id": "f40a2218",
   "metadata": {},
   "source": [
    "#### Insights\n",
    "\n",
    "* Most of individuals preferred to purchase KP281 treadmill\n",
    "* Male customers purchased most of the treadmill\n",
    "* Partnered customers most likely to purchased treadmill than single customers"
   ]
  },
  {
   "cell_type": "markdown",
   "id": "454ad284",
   "metadata": {},
   "source": [
    "#### 2.3 Non graphical Analysis on numerical features"
   ]
  },
  {
   "cell_type": "code",
   "execution_count": 79,
   "id": "7fc6819c",
   "metadata": {},
   "outputs": [],
   "source": [
    "### Get Count of unique values in each numerical column\n",
    "def num_details(col):\n",
    "        return pd.Series(col.nunique())\n"
   ]
  },
  {
   "cell_type": "code",
   "execution_count": 80,
   "id": "427ca438",
   "metadata": {},
   "outputs": [
    {
     "data": {
      "text/html": [
       "<div>\n",
       "<style scoped>\n",
       "    .dataframe tbody tr th:only-of-type {\n",
       "        vertical-align: middle;\n",
       "    }\n",
       "\n",
       "    .dataframe tbody tr th {\n",
       "        vertical-align: top;\n",
       "    }\n",
       "\n",
       "    .dataframe thead th {\n",
       "        text-align: right;\n",
       "    }\n",
       "</style>\n",
       "<table border=\"1\" class=\"dataframe\">\n",
       "  <thead>\n",
       "    <tr style=\"text-align: right;\">\n",
       "      <th></th>\n",
       "      <th>Age</th>\n",
       "      <th>Education</th>\n",
       "      <th>Usage</th>\n",
       "      <th>Fitness</th>\n",
       "      <th>Income</th>\n",
       "      <th>Miles</th>\n",
       "    </tr>\n",
       "  </thead>\n",
       "  <tbody>\n",
       "    <tr>\n",
       "      <th>0</th>\n",
       "      <td>32</td>\n",
       "      <td>8</td>\n",
       "      <td>6</td>\n",
       "      <td>5</td>\n",
       "      <td>62</td>\n",
       "      <td>37</td>\n",
       "    </tr>\n",
       "  </tbody>\n",
       "</table>\n",
       "</div>"
      ],
      "text/plain": [
       "   Age  Education  Usage  Fitness  Income  Miles\n",
       "0   32          8      6        5      62     37"
      ]
     },
     "execution_count": 80,
     "metadata": {},
     "output_type": "execute_result"
    }
   ],
   "source": [
    "num_data.apply(num_details)"
   ]
  },
  {
   "cell_type": "code",
   "execution_count": 169,
   "id": "5ace4d25",
   "metadata": {},
   "outputs": [
    {
     "data": {
      "text/plain": [
       "28.79"
      ]
     },
     "execution_count": 169,
     "metadata": {},
     "output_type": "execute_result"
    }
   ],
   "source": [
    "np.around(np.mean(num_data['Age']),2)"
   ]
  },
  {
   "cell_type": "code",
   "execution_count": 96,
   "id": "428b6df9",
   "metadata": {},
   "outputs": [],
   "source": [
    "bins = [18, 25, 31, 36, 41, 46, 51]\n",
    "labels = ['18-24', '25-30', '31-35', '36-40', '41-45', '46-50']\n",
    "\n",
    "# Add a new column with age buckets\n",
    "age_range = pd.Series(pd.cut(num_data['Age'], bins=bins, labels=labels, right=False)).value_counts().sort_index()\n",
    "\n"
   ]
  },
  {
   "cell_type": "code",
   "execution_count": 97,
   "id": "08a15bed",
   "metadata": {},
   "outputs": [
    {
     "data": {
      "text/plain": [
       "18-24    54\n",
       "25-30    66\n",
       "31-35    32\n",
       "36-40    16\n",
       "41-45     6\n",
       "46-50     6\n",
       "Name: Age, dtype: int64"
      ]
     },
     "execution_count": 97,
     "metadata": {},
     "output_type": "execute_result"
    }
   ],
   "source": [
    "num_range"
   ]
  },
  {
   "cell_type": "code",
   "execution_count": 102,
   "id": "631d0c20",
   "metadata": {},
   "outputs": [
    {
     "name": "stdout",
     "output_type": "stream",
     "text": [
      "Maximum salary is : 104581 \n",
      " Minimum salary is : 29562\n",
      "\n"
     ]
    }
   ],
   "source": [
    "print(\"Maximum salary is : {} \\n Minimum salary is : {}\\n\".format(num_data['Income'].max(),num_data['Income'].min()))"
   ]
  },
  {
   "cell_type": "code",
   "execution_count": 105,
   "id": "2ff25656",
   "metadata": {},
   "outputs": [],
   "source": [
    "# Define the income bins\n",
    "income_bins = [28000, 41000, 51000, 61000, 71000, 81000, 91000, 101000]\n",
    "\n",
    "# Define the labels for the income bins\n",
    "income_labels = ['28K-41K', '41K-51K', '51K-61K', '61K-71K', '71K-81K', '81K-91K', '91K-101K']\n",
    "\n",
    "# Create a new column with income buckets\n",
    "income_bucket = pd.Series(pd.cut(num_data['Income'], bins=income_bins, labels=income_labels, right=False)).value_counts().sort_index()"
   ]
  },
  {
   "cell_type": "code",
   "execution_count": 106,
   "id": "b5f078f0",
   "metadata": {},
   "outputs": [
    {
     "data": {
      "text/plain": [
       "28K-41K     38\n",
       "41K-51K     52\n",
       "51K-61K     51\n",
       "61K-71K     17\n",
       "71K-81K      3\n",
       "81K-91K     10\n",
       "91K-101K     6\n",
       "Name: Income, dtype: int64"
      ]
     },
     "execution_count": 106,
     "metadata": {},
     "output_type": "execute_result"
    }
   ],
   "source": [
    "income_bucket"
   ]
  },
  {
   "cell_type": "code",
   "execution_count": 107,
   "id": "3ef5f01a",
   "metadata": {
    "scrolled": true
   },
   "outputs": [
    {
     "name": "stdout",
     "output_type": "stream",
     "text": [
      "Maximum mile is : 360 \n",
      " Minimum mile is : 21\n",
      "\n"
     ]
    }
   ],
   "source": [
    "print(\"Maximum mile is : {} \\n Minimum mile is : {}\\n\".format(num_data['Miles'].max(),num_data['Miles'].min()))"
   ]
  },
  {
   "cell_type": "code",
   "execution_count": 110,
   "id": "06ef3994",
   "metadata": {},
   "outputs": [],
   "source": [
    "# Define the mile bins\n",
    "mile_bins = range(20, 401, 40)  # From 20 to 400 in steps of 40\n",
    "\n",
    "# Define the labels for the mile bins\n",
    "mile_labels = [f\"{start}-{start + 40}\" for start in mile_bins[:-1]]\n",
    "\n",
    "# Create a new column with mile buckets\n",
    "mile_bucket = pd.Series(pd.cut(num_data['Miles'], bins=mile_bins, labels=mile_labels, right=False)).value_counts()\n"
   ]
  },
  {
   "cell_type": "code",
   "execution_count": 111,
   "id": "c6cbcf7c",
   "metadata": {},
   "outputs": [
    {
     "data": {
      "text/plain": [
       "60-100     77\n",
       "100-140    38\n",
       "20-60      30\n",
       "140-180    16\n",
       "180-220    14\n",
       "260-300     2\n",
       "220-260     1\n",
       "300-340     1\n",
       "340-380     1\n",
       "Name: Miles, dtype: int64"
      ]
     },
     "execution_count": 111,
     "metadata": {},
     "output_type": "execute_result"
    }
   ],
   "source": [
    "mile_bucket"
   ]
  },
  {
   "cell_type": "code",
   "execution_count": 112,
   "id": "9d9e158d",
   "metadata": {},
   "outputs": [
    {
     "data": {
      "text/html": [
       "<div>\n",
       "<style scoped>\n",
       "    .dataframe tbody tr th:only-of-type {\n",
       "        vertical-align: middle;\n",
       "    }\n",
       "\n",
       "    .dataframe tbody tr th {\n",
       "        vertical-align: top;\n",
       "    }\n",
       "\n",
       "    .dataframe thead th {\n",
       "        text-align: right;\n",
       "    }\n",
       "</style>\n",
       "<table border=\"1\" class=\"dataframe\">\n",
       "  <thead>\n",
       "    <tr style=\"text-align: right;\">\n",
       "      <th></th>\n",
       "      <th>Age</th>\n",
       "      <th>Education</th>\n",
       "      <th>Usage</th>\n",
       "      <th>Fitness</th>\n",
       "      <th>Income</th>\n",
       "      <th>Miles</th>\n",
       "    </tr>\n",
       "  </thead>\n",
       "  <tbody>\n",
       "    <tr>\n",
       "      <th>0</th>\n",
       "      <td>18</td>\n",
       "      <td>14</td>\n",
       "      <td>3</td>\n",
       "      <td>4</td>\n",
       "      <td>29562</td>\n",
       "      <td>112</td>\n",
       "    </tr>\n",
       "    <tr>\n",
       "      <th>1</th>\n",
       "      <td>19</td>\n",
       "      <td>15</td>\n",
       "      <td>2</td>\n",
       "      <td>3</td>\n",
       "      <td>31836</td>\n",
       "      <td>75</td>\n",
       "    </tr>\n",
       "    <tr>\n",
       "      <th>2</th>\n",
       "      <td>19</td>\n",
       "      <td>14</td>\n",
       "      <td>4</td>\n",
       "      <td>3</td>\n",
       "      <td>30699</td>\n",
       "      <td>66</td>\n",
       "    </tr>\n",
       "    <tr>\n",
       "      <th>3</th>\n",
       "      <td>19</td>\n",
       "      <td>12</td>\n",
       "      <td>3</td>\n",
       "      <td>3</td>\n",
       "      <td>32973</td>\n",
       "      <td>85</td>\n",
       "    </tr>\n",
       "    <tr>\n",
       "      <th>4</th>\n",
       "      <td>20</td>\n",
       "      <td>13</td>\n",
       "      <td>4</td>\n",
       "      <td>2</td>\n",
       "      <td>35247</td>\n",
       "      <td>47</td>\n",
       "    </tr>\n",
       "  </tbody>\n",
       "</table>\n",
       "</div>"
      ],
      "text/plain": [
       "   Age  Education  Usage  Fitness  Income  Miles\n",
       "0   18         14      3        4   29562    112\n",
       "1   19         15      2        3   31836     75\n",
       "2   19         14      4        3   30699     66\n",
       "3   19         12      3        3   32973     85\n",
       "4   20         13      4        2   35247     47"
      ]
     },
     "execution_count": 112,
     "metadata": {},
     "output_type": "execute_result"
    }
   ],
   "source": [
    "num_data.head()"
   ]
  },
  {
   "cell_type": "code",
   "execution_count": 114,
   "id": "cd42582a",
   "metadata": {},
   "outputs": [
    {
     "data": {
      "text/plain": [
       "16    85\n",
       "14    55\n",
       "18    23\n",
       "13     5\n",
       "15     5\n",
       "12     3\n",
       "21     3\n",
       "20     1\n",
       "Name: Education, dtype: int64"
      ]
     },
     "execution_count": 114,
     "metadata": {},
     "output_type": "execute_result"
    }
   ],
   "source": [
    "num_data['Education'].value_counts()"
   ]
  },
  {
   "cell_type": "code",
   "execution_count": 115,
   "id": "3c00c36c",
   "metadata": {},
   "outputs": [
    {
     "data": {
      "text/plain": [
       "3    69\n",
       "4    52\n",
       "2    33\n",
       "5    17\n",
       "6     7\n",
       "7     2\n",
       "Name: Usage, dtype: int64"
      ]
     },
     "execution_count": 115,
     "metadata": {},
     "output_type": "execute_result"
    }
   ],
   "source": [
    "num_data['Usage'].value_counts()"
   ]
  },
  {
   "cell_type": "code",
   "execution_count": 116,
   "id": "17e1d740",
   "metadata": {},
   "outputs": [
    {
     "data": {
      "text/plain": [
       "3    97\n",
       "5    31\n",
       "2    26\n",
       "4    24\n",
       "1     2\n",
       "Name: Fitness, dtype: int64"
      ]
     },
     "execution_count": 116,
     "metadata": {},
     "output_type": "execute_result"
    }
   ],
   "source": [
    "num_data['Fitness'].value_counts()"
   ]
  },
  {
   "cell_type": "markdown",
   "id": "935cf309",
   "metadata": {},
   "source": [
    "#### Insights\n",
    "* Customers whose Age between 25-30 years, more likely to purchase treadmill, and average age is 28 years.\n",
    "* Salary range between 41K-61K of customers have purchased treadmill\n",
    "* 60-100 miles, the customer expects to walk/run each week.\n",
    "* Very few customers used treadmill 6-7 times each week\n",
    "* The customers who have 16 years education like to purchase treadmill more than others\n",
    "* Self-rated fitness on a 1-to-5 scale,most filtness scale is 3"
   ]
  },
  {
   "cell_type": "markdown",
   "id": "e5605338",
   "metadata": {},
   "source": [
    "#### Marginal Probability  "
   ]
  },
  {
   "cell_type": "markdown",
   "id": "28de0c37",
   "metadata": {},
   "source": [
    "Marginal Probability: Marginal probability refers to the probability of a single event occurring, "
   ]
  },
  {
   "cell_type": "code",
   "execution_count": 117,
   "id": "08eb05b2",
   "metadata": {},
   "outputs": [
    {
     "data": {
      "text/html": [
       "<div>\n",
       "<style scoped>\n",
       "    .dataframe tbody tr th:only-of-type {\n",
       "        vertical-align: middle;\n",
       "    }\n",
       "\n",
       "    .dataframe tbody tr th {\n",
       "        vertical-align: top;\n",
       "    }\n",
       "\n",
       "    .dataframe thead th {\n",
       "        text-align: right;\n",
       "    }\n",
       "</style>\n",
       "<table border=\"1\" class=\"dataframe\">\n",
       "  <thead>\n",
       "    <tr style=\"text-align: right;\">\n",
       "      <th></th>\n",
       "      <th>Age</th>\n",
       "      <th>Education</th>\n",
       "      <th>Usage</th>\n",
       "      <th>Fitness</th>\n",
       "      <th>Income</th>\n",
       "      <th>Miles</th>\n",
       "    </tr>\n",
       "  </thead>\n",
       "  <tbody>\n",
       "    <tr>\n",
       "      <th>0</th>\n",
       "      <td>18</td>\n",
       "      <td>14</td>\n",
       "      <td>3</td>\n",
       "      <td>4</td>\n",
       "      <td>29562</td>\n",
       "      <td>112</td>\n",
       "    </tr>\n",
       "    <tr>\n",
       "      <th>1</th>\n",
       "      <td>19</td>\n",
       "      <td>15</td>\n",
       "      <td>2</td>\n",
       "      <td>3</td>\n",
       "      <td>31836</td>\n",
       "      <td>75</td>\n",
       "    </tr>\n",
       "    <tr>\n",
       "      <th>2</th>\n",
       "      <td>19</td>\n",
       "      <td>14</td>\n",
       "      <td>4</td>\n",
       "      <td>3</td>\n",
       "      <td>30699</td>\n",
       "      <td>66</td>\n",
       "    </tr>\n",
       "    <tr>\n",
       "      <th>3</th>\n",
       "      <td>19</td>\n",
       "      <td>12</td>\n",
       "      <td>3</td>\n",
       "      <td>3</td>\n",
       "      <td>32973</td>\n",
       "      <td>85</td>\n",
       "    </tr>\n",
       "    <tr>\n",
       "      <th>4</th>\n",
       "      <td>20</td>\n",
       "      <td>13</td>\n",
       "      <td>4</td>\n",
       "      <td>2</td>\n",
       "      <td>35247</td>\n",
       "      <td>47</td>\n",
       "    </tr>\n",
       "  </tbody>\n",
       "</table>\n",
       "</div>"
      ],
      "text/plain": [
       "   Age  Education  Usage  Fitness  Income  Miles\n",
       "0   18         14      3        4   29562    112\n",
       "1   19         15      2        3   31836     75\n",
       "2   19         14      4        3   30699     66\n",
       "3   19         12      3        3   32973     85\n",
       "4   20         13      4        2   35247     47"
      ]
     },
     "execution_count": 117,
     "metadata": {},
     "output_type": "execute_result"
    }
   ],
   "source": [
    "num_data.head()"
   ]
  },
  {
   "cell_type": "code",
   "execution_count": 120,
   "id": "3e07fd5f",
   "metadata": {},
   "outputs": [
    {
     "data": {
      "text/plain": [
       "0.19"
      ]
     },
     "execution_count": 120,
     "metadata": {},
     "output_type": "execute_result"
    }
   ],
   "source": [
    "#### Probability of individuals walking/running atleast 140 miles\n",
    "total_individuals = len(num_data)\n",
    "miles_above_140 = np.round(len(num_data[num_data['Miles'] > 140]) / total_individuals, 2)\n",
    "miles_above_140"
   ]
  },
  {
   "cell_type": "code",
   "execution_count": 121,
   "id": "f79352ed",
   "metadata": {},
   "outputs": [
    {
     "data": {
      "text/plain": [
       "0.57"
      ]
     },
     "execution_count": 121,
     "metadata": {},
     "output_type": "execute_result"
    }
   ],
   "source": [
    "#### Probability of customer plans to use the treadmill 3 or less than 3 times each week.\n",
    "usage_below_3 = np.round(len(num_data[num_data['Usage'] <= 3]) / total_individuals, 2)\n",
    "usage_below_3"
   ]
  },
  {
   "cell_type": "code",
   "execution_count": 172,
   "id": "5fbaba0b",
   "metadata": {},
   "outputs": [
    {
     "data": {
      "text/plain": [
       "0.84"
      ]
     },
     "execution_count": 172,
     "metadata": {},
     "output_type": "execute_result"
    }
   ],
   "source": [
    "# Probability of individuals who purchased a treadmill and whose age is between 18 to 35\n",
    "age_between = np.round(len(num_data[(num_data['Age'] >= 18) & (num_data['Age'] <= 35)]) / total_individuals, 2)\n",
    "age_between\n"
   ]
  },
  {
   "cell_type": "code",
   "execution_count": 127,
   "id": "ede28823",
   "metadata": {},
   "outputs": [
    {
     "data": {
      "text/html": [
       "<div>\n",
       "<style scoped>\n",
       "    .dataframe tbody tr th:only-of-type {\n",
       "        vertical-align: middle;\n",
       "    }\n",
       "\n",
       "    .dataframe tbody tr th {\n",
       "        vertical-align: top;\n",
       "    }\n",
       "\n",
       "    .dataframe thead th {\n",
       "        text-align: right;\n",
       "    }\n",
       "</style>\n",
       "<table border=\"1\" class=\"dataframe\">\n",
       "  <thead>\n",
       "    <tr style=\"text-align: right;\">\n",
       "      <th></th>\n",
       "      <th>Product</th>\n",
       "      <th>Gender</th>\n",
       "      <th>MaritalStatus</th>\n",
       "    </tr>\n",
       "  </thead>\n",
       "  <tbody>\n",
       "    <tr>\n",
       "      <th>0</th>\n",
       "      <td>KP281</td>\n",
       "      <td>Male</td>\n",
       "      <td>Single</td>\n",
       "    </tr>\n",
       "    <tr>\n",
       "      <th>1</th>\n",
       "      <td>KP281</td>\n",
       "      <td>Male</td>\n",
       "      <td>Single</td>\n",
       "    </tr>\n",
       "    <tr>\n",
       "      <th>2</th>\n",
       "      <td>KP281</td>\n",
       "      <td>Female</td>\n",
       "      <td>Partnered</td>\n",
       "    </tr>\n",
       "    <tr>\n",
       "      <th>3</th>\n",
       "      <td>KP281</td>\n",
       "      <td>Male</td>\n",
       "      <td>Single</td>\n",
       "    </tr>\n",
       "    <tr>\n",
       "      <th>4</th>\n",
       "      <td>KP281</td>\n",
       "      <td>Male</td>\n",
       "      <td>Partnered</td>\n",
       "    </tr>\n",
       "  </tbody>\n",
       "</table>\n",
       "</div>"
      ],
      "text/plain": [
       "  Product  Gender MaritalStatus\n",
       "0   KP281    Male        Single\n",
       "1   KP281    Male        Single\n",
       "2   KP281  Female     Partnered\n",
       "3   KP281    Male        Single\n",
       "4   KP281    Male     Partnered"
      ]
     },
     "execution_count": 127,
     "metadata": {},
     "output_type": "execute_result"
    }
   ],
   "source": [
    "cat_data.head()"
   ]
  },
  {
   "cell_type": "code",
   "execution_count": 128,
   "id": "32e0547d",
   "metadata": {},
   "outputs": [
    {
     "data": {
      "text/plain": [
       "0.41"
      ]
     },
     "execution_count": 128,
     "metadata": {},
     "output_type": "execute_result"
    }
   ],
   "source": [
    "#### what is Probability that buying treadmill customer is Single\n",
    "single = np.round(len(cat_data[(cat_data['MaritalStatus'] == 'Single')]) / total_individuals, 2)\n",
    "single"
   ]
  },
  {
   "cell_type": "code",
   "execution_count": 129,
   "id": "59018f47",
   "metadata": {},
   "outputs": [
    {
     "data": {
      "text/plain": [
       "0.42"
      ]
     },
     "execution_count": 129,
     "metadata": {},
     "output_type": "execute_result"
    }
   ],
   "source": [
    "#### what is Probability that buying treadmill customer is Female\n",
    "female = np.round(len(cat_data[(cat_data['Gender'] == 'Female')]) / total_individuals, 2)\n",
    "female"
   ]
  },
  {
   "cell_type": "code",
   "execution_count": 131,
   "id": "f3917c0e",
   "metadata": {},
   "outputs": [
    {
     "data": {
      "text/plain": [
       "0.78"
      ]
     },
     "execution_count": 131,
     "metadata": {},
     "output_type": "execute_result"
    }
   ],
   "source": [
    "####Probability that customer buying entry-level treadmill or mid-level treadmill\n",
    "entry_mid = np.round(len(cat_data[(cat_data['Product'] == 'KP281') | (cat_data['Product'] == 'KP481')]) / total_individuals, 2)\n",
    "entry_mid\n"
   ]
  },
  {
   "cell_type": "markdown",
   "id": "9d961ab4",
   "metadata": {},
   "source": [
    "#### Insights\n",
    "\n",
    "* Probability of individuals walking/running atleast 140 miles is 19% and Probability of customer plans to use the treadmill 3 or less than 3 times each week is 57%\n",
    "* Most of customers who puchased treadmill is age between 25-30 years and Probability of individuals who purchased a treadmill and whose age is between 18 to 35 is 84\n",
    "* A female customer purchasing treadmill having probability is 42%, whereas probability of buying treadmill customer is Single is 42%"
   ]
  },
  {
   "cell_type": "markdown",
   "id": "4f3b77dc",
   "metadata": {},
   "source": [
    "#### Conditional Probability\n"
   ]
  },
  {
   "cell_type": "code",
   "execution_count": 151,
   "id": "49d9af4f",
   "metadata": {},
   "outputs": [
    {
     "data": {
      "text/html": [
       "<div>\n",
       "<style scoped>\n",
       "    .dataframe tbody tr th:only-of-type {\n",
       "        vertical-align: middle;\n",
       "    }\n",
       "\n",
       "    .dataframe tbody tr th {\n",
       "        vertical-align: top;\n",
       "    }\n",
       "\n",
       "    .dataframe thead th {\n",
       "        text-align: right;\n",
       "    }\n",
       "</style>\n",
       "<table border=\"1\" class=\"dataframe\">\n",
       "  <thead>\n",
       "    <tr style=\"text-align: right;\">\n",
       "      <th></th>\n",
       "      <th>Product</th>\n",
       "      <th>Age</th>\n",
       "      <th>Gender</th>\n",
       "      <th>Education</th>\n",
       "      <th>MaritalStatus</th>\n",
       "      <th>Usage</th>\n",
       "      <th>Fitness</th>\n",
       "      <th>Income</th>\n",
       "      <th>Miles</th>\n",
       "    </tr>\n",
       "  </thead>\n",
       "  <tbody>\n",
       "    <tr>\n",
       "      <th>69</th>\n",
       "      <td>KP281</td>\n",
       "      <td>38</td>\n",
       "      <td>Female</td>\n",
       "      <td>14</td>\n",
       "      <td>Partnered</td>\n",
       "      <td>2</td>\n",
       "      <td>3</td>\n",
       "      <td>54576</td>\n",
       "      <td>56</td>\n",
       "    </tr>\n",
       "    <tr>\n",
       "      <th>38</th>\n",
       "      <td>KP281</td>\n",
       "      <td>26</td>\n",
       "      <td>Female</td>\n",
       "      <td>16</td>\n",
       "      <td>Single</td>\n",
       "      <td>3</td>\n",
       "      <td>3</td>\n",
       "      <td>36384</td>\n",
       "      <td>66</td>\n",
       "    </tr>\n",
       "    <tr>\n",
       "      <th>175</th>\n",
       "      <td>KP781</td>\n",
       "      <td>40</td>\n",
       "      <td>Male</td>\n",
       "      <td>21</td>\n",
       "      <td>Single</td>\n",
       "      <td>6</td>\n",
       "      <td>5</td>\n",
       "      <td>83416</td>\n",
       "      <td>200</td>\n",
       "    </tr>\n",
       "  </tbody>\n",
       "</table>\n",
       "</div>"
      ],
      "text/plain": [
       "    Product  Age  Gender  Education MaritalStatus  Usage  Fitness  Income  \\\n",
       "69    KP281   38  Female         14     Partnered      2        3   54576   \n",
       "38    KP281   26  Female         16        Single      3        3   36384   \n",
       "175   KP781   40    Male         21        Single      6        5   83416   \n",
       "\n",
       "     Miles  \n",
       "69      56  \n",
       "38      66  \n",
       "175    200  "
      ]
     },
     "execution_count": 151,
     "metadata": {},
     "output_type": "execute_result"
    }
   ],
   "source": [
    "data.sample(3)"
   ]
  },
  {
   "cell_type": "code",
   "execution_count": 145,
   "id": "0974d709",
   "metadata": {},
   "outputs": [],
   "source": [
    "def compute_probabilities_for_product(product, data):\n",
    "    print(f\"Product: {product}\")\n",
    "    # Filter data for the given product\n",
    "    product_data = data[data['Product'] == product]\n",
    "    \n",
    "    # Construct a contingency table for Gender vs MaritalStatus\n",
    "    contingency_table = pd.crosstab(product_data['Gender'], product_data['MaritalStatus'])\n",
    "    print(\"\\nContingency Table (Gender vs MaritalStatus):\")\n",
    "    print(contingency_table)\n",
    "    \n",
    "    # Compute conditional probabilities\n",
    "    conditional_probabilities = np.around(contingency_table.div(contingency_table.sum(axis=1), axis=0), 2)\n",
    "    print(\"\\nConditional Probabilities (Gender given MaritalStatus):\")\n",
    "    print(conditional_probabilities)\n",
    "    \n",
    "    # Compute marginal probabilities\n",
    "    marginal_probabilities_gender = product_data['Gender'].value_counts(normalize=True)\n",
    "    marginal_probabilities_marital_status = product_data['MaritalStatus'].value_counts(normalize=True)\n",
    "    print(\"\\nMarginal Probabilities (Gender and MaritalStatus):\")\n",
    "    print(\"Gender:\")\n",
    "    print(marginal_probabilities_gender)\n",
    "    print(\"\\nMaritalStatus:\")\n",
    "    print(marginal_probabilities_marital_status)\n",
    "    \n",
    "    print(\"\\n---\\n\")"
   ]
  },
  {
   "cell_type": "code",
   "execution_count": 148,
   "id": "3b6c9c9e",
   "metadata": {},
   "outputs": [
    {
     "name": "stdout",
     "output_type": "stream",
     "text": [
      "Product: KP781\n",
      "\n",
      "Contingency Table (Gender vs MaritalStatus):\n",
      "MaritalStatus  Partnered  Single\n",
      "Gender                          \n",
      "Female                 4       3\n",
      "Male                  19      14\n",
      "\n",
      "Conditional Probabilities (Gender given MaritalStatus):\n",
      "MaritalStatus  Partnered  Single\n",
      "Gender                          \n",
      "Female              0.57    0.43\n",
      "Male                0.58    0.42\n",
      "\n",
      "Marginal Probabilities (Gender and MaritalStatus):\n",
      "Gender:\n",
      "Male      0.825\n",
      "Female    0.175\n",
      "Name: Gender, dtype: float64\n",
      "\n",
      "MaritalStatus:\n",
      "Partnered    0.575\n",
      "Single       0.425\n",
      "Name: MaritalStatus, dtype: float64\n",
      "\n",
      "---\n",
      "\n"
     ]
    }
   ],
   "source": [
    "compute_probabilities_for_product('KP781', data)\n"
   ]
  },
  {
   "cell_type": "code",
   "execution_count": 149,
   "id": "d7a9154f",
   "metadata": {},
   "outputs": [
    {
     "name": "stdout",
     "output_type": "stream",
     "text": [
      "Product: KP481\n",
      "\n",
      "Contingency Table (Gender vs MaritalStatus):\n",
      "MaritalStatus  Partnered  Single\n",
      "Gender                          \n",
      "Female                15      14\n",
      "Male                  21      10\n",
      "\n",
      "Conditional Probabilities (Gender given MaritalStatus):\n",
      "MaritalStatus  Partnered  Single\n",
      "Gender                          \n",
      "Female              0.52    0.48\n",
      "Male                0.68    0.32\n",
      "\n",
      "Marginal Probabilities (Gender and MaritalStatus):\n",
      "Gender:\n",
      "Male      0.516667\n",
      "Female    0.483333\n",
      "Name: Gender, dtype: float64\n",
      "\n",
      "MaritalStatus:\n",
      "Partnered    0.6\n",
      "Single       0.4\n",
      "Name: MaritalStatus, dtype: float64\n",
      "\n",
      "---\n",
      "\n"
     ]
    }
   ],
   "source": [
    "compute_probabilities_for_product('KP481', data)\n"
   ]
  },
  {
   "cell_type": "code",
   "execution_count": 150,
   "id": "f43c4d66",
   "metadata": {},
   "outputs": [
    {
     "name": "stdout",
     "output_type": "stream",
     "text": [
      "Product: KP281\n",
      "\n",
      "Contingency Table (Gender vs MaritalStatus):\n",
      "MaritalStatus  Partnered  Single\n",
      "Gender                          \n",
      "Female                27      13\n",
      "Male                  21      19\n",
      "\n",
      "Conditional Probabilities (Gender given MaritalStatus):\n",
      "MaritalStatus  Partnered  Single\n",
      "Gender                          \n",
      "Female              0.68    0.32\n",
      "Male                0.52    0.48\n",
      "\n",
      "Marginal Probabilities (Gender and MaritalStatus):\n",
      "Gender:\n",
      "Male      0.5\n",
      "Female    0.5\n",
      "Name: Gender, dtype: float64\n",
      "\n",
      "MaritalStatus:\n",
      "Partnered    0.6\n",
      "Single       0.4\n",
      "Name: MaritalStatus, dtype: float64\n",
      "\n",
      "---\n",
      "\n"
     ]
    }
   ],
   "source": [
    "compute_probabilities_for_product('KP281', data)\n"
   ]
  },
  {
   "cell_type": "markdown",
   "id": "5ff6a514",
   "metadata": {},
   "source": [
    "#### Insights\n",
    "\n",
    "* For product KP781, Female gender purchasing treadmill having very less probability, but if we check marital status Partnered both male and female approximatly having same treadmill buying probability.\n",
    "\n",
    "* For product KP481, both male and female gender having same probability to purchase treadmill, and if we check conditional probability, marital status partenerd male gender having more probability around 68% to purchase treadmill\n",
    "\n",
    "* For product KP281, both male and female gender having same probability to purchase treadmill, and if we check conditional probability, marital status partenerd female gender having more probability around 68% to purchase treadmill\n"
   ]
  },
  {
   "cell_type": "markdown",
   "id": "6ab03340",
   "metadata": {},
   "source": [
    "### Graphical Analysis "
   ]
  },
  {
   "cell_type": "markdown",
   "id": "108cf0b5",
   "metadata": {},
   "source": [
    "#### Univariate Analysis"
   ]
  },
  {
   "cell_type": "markdown",
   "id": "cbcf5e63",
   "metadata": {},
   "source": [
    "* **Frequency Distribution:** Calculate the frequency (count) of each category in the categorical feature.\n",
    "* **Bar Plot:** Visualize the frequency distribution using a bar plot to see the distribution of categories.\n",
    "* **Percentage Distribution:** Calculate the percentage of each category relative to the total number of observations.\n",
    "* **Pie Chart:** Visualize the percentage distribution using a pie chart to understand the proportion of each category."
   ]
  },
  {
   "cell_type": "code",
   "execution_count": 167,
   "id": "e2fdcdf5",
   "metadata": {},
   "outputs": [
    {
     "name": "stderr",
     "output_type": "stream",
     "text": [
      "C:\\Users\\DELL\\anaconda3\\lib\\site-packages\\seaborn\\_decorators.py:36: FutureWarning: Pass the following variable as a keyword arg: x. From version 0.12, the only valid positional argument will be `data`, and passing other arguments without an explicit keyword will result in an error or misinterpretation.\n",
      "  warnings.warn(\n"
     ]
    },
    {
     "data": {
      "text/plain": [
       "Text(0.5, 1.0, 'Percentage Distribution')"
      ]
     },
     "execution_count": 167,
     "metadata": {},
     "output_type": "execute_result"
    },
    {
     "data": {
      "image/png": "[encoded data removed]",
      "text/plain": [
       "<Figure size 1440x360 with 3 Axes>"
      ]
     },
     "metadata": {
      "needs_background": "light"
     },
     "output_type": "display_data"
    }
   ],
   "source": [
    "# Create subplots\n",
    "fig, axs = plt.subplots(1, 3, figsize=(20, 5))\n",
    "\n",
    "# Frequency distribution bar plot\n",
    "sns.countplot(cat_data['Product'],ax=axs[0])\n",
    "axs[0].set_title('Frequency Distribution')\n",
    "axs[0].set_xlabel('Category')\n",
    "axs[0].set_ylabel('Frequency')\n",
    "\n",
    "# Bar plot\n",
    "plt.bar(cat_data['MaritalStatus'].value_counts().index, cat_data['MaritalStatus'].value_counts().values)\n",
    "axs[2].set_title('Bar Plot')\n",
    "axs[2].set_xlabel('Category')\n",
    "axs[2].set_ylabel('Frequency')\n",
    "\n",
    "# Percentage distribution pie chart\n",
    "axs[1].pie(cat_data['Gender'].value_counts(),labels=cat_data['Gender'].value_counts().index, autopct='%1.1f%%')\n",
    "axs[1].set_title('Percentage Distribution')"
   ]
  },
  {
   "cell_type": "markdown",
   "id": "4d630463",
   "metadata": {},
   "source": [
    "#### Insights\n",
    "* Product KP281 is most purchased\n",
    "* Purchasing rate of male is higher than female and Partnered marital status purchasing most treadmill."
   ]
  },
  {
   "cell_type": "code",
   "execution_count": 177,
   "id": "cb1d0a77",
   "metadata": {},
   "outputs": [
    {
     "data": {
      "image/png": "[encoded data removed]",
      "text/plain": [
       "<Figure size 576x576 with 6 Axes>"
      ]
     },
     "metadata": {
      "needs_background": "light"
     },
     "output_type": "display_data"
    }
   ],
   "source": [
    "### Understanding distribution of Numerical features\n",
    "fig, axis = plt.subplots(nrows=2, ncols=3, figsize=(8, 8))\n",
    "fig.subplots_adjust(top=1.2)\n",
    "sns.histplot(data=num_data, x=\"Age\", kde=True, ax=axis[0,0])\n",
    "sns.histplot(data=num_data, x=\"Education\", kde=True, ax=axis[0,1])\n",
    "sns.histplot(data=num_data, x=\"Usage\", kde=True, ax=axis[0,2])\n",
    "sns.histplot(data=num_data, x=\"Fitness\", kde=True, ax=axis[1,0])\n",
    "sns.histplot(data=num_data, x=\"Income\", kde=True, ax=axis[1,1])\n",
    "sns.histplot(data=num_data, x=\"Miles\", kde=True, ax=axis[1,2])\n",
    "plt.show()"
   ]
  },
  {
   "cell_type": "markdown",
   "id": "43bb5a86",
   "metadata": {},
   "source": [
    "#### Insights\n",
    "\n",
    "* Distribution of features Age, Usage, Income ad miles is right skewed.\n",
    "* Distributiion of Fitness and Education tends to normal distribution, but not exactly normally distributed\n",
    "* Cutomers age lie between 10-50 and Average age is 28\n",
    "* High fitness scale is 3\n",
    "* high salary range is between 41K-61K\n",
    "* 60-100 miles, the customer expects to walk/run each week\n",
    "    "
   ]
  },
  {
   "cell_type": "markdown",
   "id": "1919fdf4",
   "metadata": {},
   "source": [
    "#### Bivariate Analysis"
   ]
  },
  {
   "cell_type": "markdown",
   "id": "279c74be",
   "metadata": {},
   "source": [
    "To perform bivariate analysis on the given dataset, we can explore the relationships between pairs of variables. Since the dataset consists of both numerical and categorical variables, we'll need to use different methods for each type of variable.\n",
    "\n",
    "Here's how we can proceed:\n",
    "\n",
    "**For numerical vs. numerical variables:**\n",
    "\n",
    "**Scatter plot:** We can create scatter plots to visualize the relationship between two numerical variables. This helps us understand if there's any correlation or pattern between them.\n",
    "\n",
    "**For categorical vs. categorical variables:**\n",
    "\n",
    "**Cross-tabulation:** We can create a contingency table to see the frequency distribution of one categorical variable with respect to another categorical variable. This helps us understand if there's any association between the two variables.\n",
    "\n",
    "**For categorical vs. numerical variables:**\n",
    "\n",
    "**Box plot or violin plot:** We can create box plots or violin plots to visualize the distribution of a numerical variable for each category of a categorical variable. This helps us understand if there are any differences in the distribution of the numerical variable across different categories of the categorical variable."
   ]
  },
  {
   "cell_type": "markdown",
   "id": "1dbe1111",
   "metadata": {},
   "source": [
    "#### Numerical and Numerical features"
   ]
  },
  {
   "cell_type": "code",
   "execution_count": 200,
   "id": "2a2c8eaf",
   "metadata": {},
   "outputs": [
    {
     "data": {
      "image/png": "[encoded data removed]",
      "text/plain": [
       "<Figure size 720x468 with 3 Axes>"
      ]
     },
     "metadata": {},
     "output_type": "display_data"
    }
   ],
   "source": [
    "# Scatter plot for Age vs. Income and Age VS Miles\n",
    "fig, axs = plt.subplots(nrows=1, ncols=3, figsize=(10, 6.5))\n",
    "sns.scatterplot(x='Age', y='Income', data=data,ax=axs[0])\n",
    "axs[0].set_title('Scatter Plot: Age vs. Income')\n",
    "axs[0].set_xlabel('Age')\n",
    "axs[0].set_ylabel('Income')\n",
    "sns.scatterplot(x='Age', y='Miles', data=data,ax=axs[1])\n",
    "axs[1].set_title('Scatter Plot: Age vs. Miles')\n",
    "axs[1].set_xlabel('Age')\n",
    "axs[1].set_ylabel('Miles')\n",
    "sns.scatterplot(x='Age', y='Education', data=data,ax=axs[2])\n",
    "axs[2].set_title('Scatter Plot: Age vs. Education')\n",
    "axs[2].set_xlabel('Age')\n",
    "axs[2].set_ylabel('Education')\n",
    "plt.show()"
   ]
  },
  {
   "cell_type": "markdown",
   "id": "ea28e7ae",
   "metadata": {},
   "source": [
    "#### Categorical and Numerical Features"
   ]
  },
  {
   "cell_type": "code",
   "execution_count": 210,
   "id": "0060b1e3",
   "metadata": {},
   "outputs": [
    {
     "data": {
      "image/png": "[encoded data removed]",
      "text/plain": [
       "<Figure size 576x576 with 6 Axes>"
      ]
     },
     "metadata": {},
     "output_type": "display_data"
    }
   ],
   "source": [
    "fig, axis = plt.subplots(nrows=3, ncols=2, figsize=(8, 8))\n",
    "fig.subplots_adjust(top=1.2)\n",
    "sns.boxplot(data=data, x=\"Product\",y = \"Age\",ax=axis[0,0])\n",
    "sns.boxplot(data=data, x=\"Product\", y=\"Education\", ax=axis[0,1])\n",
    "sns.kdeplot(data=data, x=\"Miles\", hue= 'Product', ax=axis[1,0])\n",
    "sns.kdeplot(data=data, x=\"Income\", hue = 'Product', ax=axis[1,1])\n",
    "sns.barplot(data=data,  x=\"Product\",y=\"Usage\",estimator = np.mean, ax=axis[2,0])\n",
    "sns.barplot(data=data,  x=\"Product\",y=\"Fitness\",estimator = np.mean, ax=axis[2,1])\n",
    "plt.show()"
   ]
  },
  {
   "cell_type": "markdown",
   "id": "b1107bb5",
   "metadata": {},
   "source": [
    "#### Category and Category"
   ]
  },
  {
   "cell_type": "code",
   "execution_count": 182,
   "id": "be29c970",
   "metadata": {},
   "outputs": [
    {
     "data": {
      "image/png": "[encoded data removed]",
      "text/plain": [
       "<Figure size 576x432 with 2 Axes>"
      ]
     },
     "metadata": {
      "needs_background": "light"
     },
     "output_type": "display_data"
    }
   ],
   "source": [
    "# Cross-tabulation for Gender vs. MaritalStatus\n",
    "contingency_table = pd.crosstab(data['Gender'], data['MaritalStatus'])\n",
    "\n",
    "# Plotting the heatmap\n",
    "plt.figure(figsize=(8, 6))\n",
    "sns.heatmap(contingency_table, annot=True, cmap='Blues', fmt='d')\n",
    "plt.title('Cross-tabulation: Gender vs. MaritalStatus')\n",
    "plt.xlabel('MaritalStatus')\n",
    "plt.ylabel('Gender')\n",
    "plt.show()"
   ]
  },
  {
   "cell_type": "code",
   "execution_count": 194,
   "id": "881a2e32",
   "metadata": {},
   "outputs": [
    {
     "data": {
      "image/png": "[encoded data removed]",
      "text/plain": [
       "<Figure size 720x468 with 2 Axes>"
      ]
     },
     "metadata": {},
     "output_type": "display_data"
    }
   ],
   "source": [
    "sns.set_style(style='whitegrid')\n",
    "fig, axs = plt.subplots(nrows=1, ncols=2, figsize=(10, 6.5))\n",
    "sns.countplot(data=data, x='Product', hue='Gender', edgecolor=\"0.15\", ax=axs[0])\n",
    "sns.countplot(data=data, x='Product', hue='MaritalStatus',\n",
    "edgecolor=\"0.15\", ax=axs[1])\n",
    "axs[0].set_title(\"Product vs Gender\", pad=10, fontsize=14)\n",
    "axs[1].set_title(\"Product vs MaritalStatus\", pad=10, fontsize=14)\n",
    "plt.show()"
   ]
  },
  {
   "cell_type": "markdown",
   "id": "d68d2678",
   "metadata": {},
   "source": [
    "#### Insights\n",
    "\n",
    "* There is slightly positive relation of Age with income and miles, and Age doesn't have any relation with Education feature\n",
    "* A customers whose age is between 25-30 are more likely to purchase KP781 treadmill\n",
    "* A customers having education between 12-18, like to purchase KP281 and KP481, whereas customers having greater than 14 years education like to purchase KP781\n",
    "* If the customer expects to walk/run less than 120 Miles per week, it is morelikely that the customer will buy KP281 and KP481 product.\n",
    "* A customers having salary between 25k to 75k, preferred to buy KP281 and KP481 product.\n",
    "* Customers who are planning to use the treadmill greater than 4 times a week, are more likely to purchase the KP781 product. and While the other customers are likely to purchasing KP281 or KP481.\n",
    "* The more the customer is fit (fitness >= 3), higher the chances of the customer to purchase the KP781 product.\n",
    "* Both male and female equally like to purchase KP281 product, where as only few number of females are like tp purchase KP871.\n",
    "* Partnered marital status having more purchase for all the products than single"
   ]
  },
  {
   "cell_type": "markdown",
   "id": "13635481",
   "metadata": {},
   "source": [
    "#### Check correlation"
   ]
  },
  {
   "cell_type": "code",
   "execution_count": 215,
   "id": "7bcae36e",
   "metadata": {},
   "outputs": [
    {
     "data": {
      "image/png": "[encoded data removed]",
      "text/plain": [
       "<Figure size 1080x1080 with 42 Axes>"
      ]
     },
     "metadata": {},
     "output_type": "display_data"
    }
   ],
   "source": [
    "sns.pairplot(data, diag_kind='kde')\n",
    "\n",
    "plt.show()"
   ]
  },
  {
   "cell_type": "markdown",
   "id": "0a949016",
   "metadata": {},
   "source": [
    "#### Insights"
   ]
  },
  {
   "cell_type": "markdown",
   "id": "01b06376",
   "metadata": {},
   "source": [
    "* Miles feature have slightly positive correlation with Age and Income\n",
    "* Income feature have positive correlation with Age and Miles\n",
    "* Fitness Miles and Usage these features have positive correlation with each other\n",
    "* Education feature doesn't have any relation with other columns"
   ]
  },
  {
   "cell_type": "markdown",
   "id": "4923c13a",
   "metadata": {},
   "source": [
    "#### Outlier Detections"
   ]
  },
  {
   "cell_type": "code",
   "execution_count": 221,
   "id": "d96e1924",
   "metadata": {},
   "outputs": [
    {
     "name": "stdout",
     "output_type": "stream",
     "text": [
      "Feature Age has 5 outliers.\n",
      "Feature Education has 4 outliers.\n",
      "Feature Usage has 9 outliers.\n",
      "Feature Fitness has 2 outliers.\n",
      "Feature Income has 19 outliers.\n",
      "Feature Miles has 13 outliers.\n"
     ]
    }
   ],
   "source": [
    "def detect_outliers(df):\n",
    "    outliers = {}\n",
    "    for column in df.columns:\n",
    "        if df[column].dtype != 'object':  # Exclude non-numeric columns\n",
    "            Q1 = np.percentile(df[column], 25)\n",
    "            Q3 = np.percentile(df[column], 75)\n",
    "            IQR = Q3 - Q1\n",
    "            lower_bound = Q1 - 1.5 * IQR\n",
    "            upper_bound = Q3 + 1.5 * IQR\n",
    "            outlier_data = df[(df[column] < lower_bound) | (df[column] > upper_bound)]\n",
    "            outliers[column] = len(outlier_data)\n",
    "    return outliers\n",
    "\n",
    "# Detect outliers in the dataset\n",
    "outliers = detect_outliers(data)\n",
    "\n",
    "# Print the number of outliers for each numerical feature\n",
    "for column, count in outliers.items():\n",
    "    print(f\"Feature {column} has {count} outliers.\")\n",
    "\n",
    "\n"
   ]
  },
  {
   "cell_type": "code",
   "execution_count": 218,
   "id": "6adc1ccc",
   "metadata": {},
   "outputs": [
    {
     "data": {
      "image/png": "[encoded data removed]",
      "text/plain": [
       "<Figure size 1080x576 with 6 Axes>"
      ]
     },
     "metadata": {},
     "output_type": "display_data"
    }
   ],
   "source": [
    "# Define the numerical columns for which you want to detect outliers\n",
    "numerical_columns = ['Age', 'Education', 'Usage', 'Fitness', 'Income', 'Miles']\n",
    "\n",
    "# Create boxplots for each numerical column\n",
    "plt.figure(figsize=(15, 8))\n",
    "for i, column in enumerate(numerical_columns, 1):\n",
    "    plt.subplot(2, 3, i)\n",
    "    sns.boxplot(x=data[column])\n",
    "    plt.title(f'Boxplot of {column}')\n",
    "\n",
    "plt.tight_layout()\n",
    "plt.show()"
   ]
  },
  {
   "cell_type": "markdown",
   "id": "ddfea94c",
   "metadata": {},
   "source": [
    "#### Insights\n",
    "* All numerical features having outliers\n",
    "* Feature Fitness has 2 outliers whereas feature Income has 19 outliers."
   ]
  },
  {
   "cell_type": "markdown",
   "id": "7df68f67",
   "metadata": {},
   "source": [
    "####  Business Insights:\n",
    "While Analysing data, we come to following insights\n",
    "* Data doesn't hold any duplicate entries and doesn't have null values.\n",
    "* 50 percent of individuals who purchased treadmills are aged below 33 years and have below 16 years of education\n",
    "* The average annual income of individuals between 53k and 54k, who like to purchase a treadmill\n",
    "* Most individuals preferred to purchase the KP281 treadmill\n",
    "* Male customers purchased most of the treadmill\n",
    "* Partnered customers are more likely to purchase treadmills than single customers\n",
    "* Self-rated fitness on a 1-to-5 scale, most fitness scales are 3\n",
    "* Very few customers used the treadmill 6-7 times each week\n",
    "* 60-100 miles, the customer expects to walk/run each week.\n",
    "* The probability of individuals walking/running at least 140 miles is 19% and the Probability of customer plans to use the treadmill 3 or less than 3 times each week is 57%\n",
    "* Most of the customers who purchased treadmills are aged between 25 and 30 years and the Probability of individuals who purchased a treadmill and who age between 18 and 35 is 84\n",
    "* A female customer purchasing a treadmill has a probability of 42%, whereas the probability of buying a treadmill customer is Single is 42%\n",
    "* For product KP781, the Female gender purchasing treadmill has a very low probability, but if we check marital status Partnered both males and females approximately having same treadmill buying probability.\n",
    "* For product KP481, both males and females have an equal probability of purchasing a treadmill, and if we check conditional probability, marital status partnered male gender having more probability around 68% of purchasing a treadmill\n",
    "* For product KP281, both males and females have the same probability of purchasing a treadmill, and if we check conditional probability, the marital status partnered female gender has more probability around 68% to purchase a treadmill\n",
    "* Product KP281 is the most purchased\n",
    "* There is a slightly positive relation between Age with income and miles, and Age doesn't have any relation to the Education feature\n",
    "* A customers aged between 25-30 are more likely to purchase a KP781 treadmill\n",
    "* A customers having education between 12 and 18, like to purchase KP281 and KP481, whereas customers having greater than 14 years of education like to purchase KP781\n",
    "* If the customer expects to walk/run less than 120 Miles per week, it is more likely that the customer will buy KP281 and KP481 products.\n",
    "* A customer with having salary between 25k to 75k preferred to buy KP281 and KP481 products.\n",
    "* Customers who are planning to use the treadmill greater than 4 times a week are more likely to purchase the KP781 product. and While the other customers are likely to purchase KP281 or KP481.\n",
    "* The more the customer is fit (fitness >= 3), the higher the chances of the customer to purchase the KP781 product.\n",
    "* Both males and females equally like to purchase KP281 products, whereas only a few females like to purchase KP871.\n",
    "* Partnered marital status having more purchases for all the products than single\n",
    "* Fitness Miles and Usage These features have a positive correlation with each other and the Education feature doesn't have any relation with other feature\n",
    "* All numerical features have outliers and Feature Fitness has 2 outliers whereas Feature Income has 19 outliers."
   ]
  },
  {
   "cell_type": "markdown",
   "id": "76ba81af",
   "metadata": {},
   "source": [
    "#### Recommendation\n",
    "* Very few customers like to purchase KP781 products, looks like a high price and high years of education can be constraints, we can provide some guided videos or books while purchasing KP781 products that will help to reduce education criteria\n",
    "* As Prices are very high, it will be more helpful if provide some offers like 7 days free guided  training or can provide some discounts \n",
    "* Males are more likely to purchase products than females. The majority time females do not like to invest their time in health-related stuff as they are likely to spend time on other work, we can launch some advertisements that will show how women can use a treadmill while doing their work and how the treadmill will go to help their health and daily routine.\n",
    "* To attract women's attention we can provide free diet plans to females.\n",
    "* Partnered more likely to purchase treadmills than singles, The Reason could be financial problems or not having interest. So again we can launch some Advertising to single individuals to show how the treadmill helps them \n",
    "* We can also provide some referral programs like a single can refer to a single and will get back cashback or some offer, this will help to attract single customers."
   ]
  },
  {
   "cell_type": "code",
   "execution_count": null,
   "id": "b34d9bda",
   "metadata": {},
   "outputs": [],
   "source": []
  }
 ],
 "metadata": {
  "kernelspec": {
   "display_name": "Python 3",
   "language": "python",
   "name": "python3"
  },
  "language_info": {
   "codemirror_mode": {
    "name": "ipython",
    "version": 3
   },
   "file_extension": ".py",
   "mimetype": "text/x-python",
   "name": "python",
   "nbconvert_exporter": "python",
   "pygments_lexer": "ipython3",
   "version": "3.8.8"
  }
 },
 "nbformat": 4,
 "nbformat_minor": 5
}
